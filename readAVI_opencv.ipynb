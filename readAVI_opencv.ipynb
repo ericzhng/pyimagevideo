{
 "cells": [
  {
   "cell_type": "code",
   "execution_count": 2,
   "metadata": {
    "collapsed": true
   },
   "outputs": [],
   "source": [
    "from pathlib import Path\n",
    "import cv2\n",
    "import logging\n",
    "import subprocess\n",
    "\n",
    "path = '~/Videos'\n",
    "pat = '*'"
   ]
  },
  {
   "cell_type": "code",
   "execution_count": 3,
   "metadata": {
    "collapsed": false
   },
   "outputs": [
    {
     "name": "stdout",
     "output_type": "stream",
     "text": [
      "OpenCV 3.1.0 loaded from /home/rollo/anaconda3/lib/python3.5/site-packages/cv2.cpython-35m-x86_64-linux-gnu.so\n"
     ]
    }
   ],
   "source": [
    "print('OpenCV {} loaded from {}'.format(cv2.__version__,cv2.__file__))\n",
    "\n",
    "path = Path(path).expanduser()\n",
    "flist = sorted(path.glob(pat))\n",
    "\n",
    "failed = []\n",
    "passed = []"
   ]
  },
  {
   "cell_type": "code",
   "execution_count": 4,
   "metadata": {
    "collapsed": false
   },
   "outputs": [],
   "source": [
    "for fn in flist:\n",
    "    if not fn.is_file():\n",
    "        continue\n",
    "    \n",
    "    try:\n",
    "        ret = subprocess.check_output(['ffprobe','-show_streams',str(fn)],stderr=subprocess.DEVNULL).decode('utf8').split('\\n')\n",
    "        ind = [i for i, elem in enumerate(ret) if 'codec_name' in elem]\n",
    "        codec = ret[ind[0]].split('=')[1]\n",
    "    except (IndexError,SubprocessError):\n",
    "        codec = str(fn)\n",
    "#%%\n",
    "    v = cv2.VideoCapture(str(fn))\n",
    "    if not v.isOpened():\n",
    "        logging.error('unable to read {}'.format(fn))\n",
    "        failed.append(codec)\n",
    "        continue\n",
    "    \"\"\"\n",
    "    NOTE: will still \"pass\" even if video is scrambled or blank\n",
    "    \"\"\"\n",
    "    passed.append(codec) \n",
    "    while True:\n",
    "        ret,frame = v.read()\n",
    "        if not ret:\n",
    "            break\n",
    "    \n",
    "        gray = cv2.cvtColor(frame,cv2.COLOR_BGR2GRAY)\n",
    "        cv2.imshow(str(fn),gray)\n",
    "        cv2.waitKey(10)\n",
    "        \n",
    "\n",
    "    v.release()\n",
    "    cv2.destroyWindow(str(fn))"
   ]
  },
  {
   "cell_type": "code",
   "execution_count": 5,
   "metadata": {
    "collapsed": false
   },
   "outputs": [
    {
     "name": "stdout",
     "output_type": "stream",
     "text": [
      "passing codecs:\n",
      "h263\n",
      "flv\n",
      "h264\n",
      "unknown\n",
      "vp8\n"
     ]
    }
   ],
   "source": [
    "if passed:\n",
    "    print('passing codecs:')\n",
    "    print('\\n'.join(passed))\n",
    "    \n",
    "if failed:\n",
    "    print('failed codecs:')\n",
    "    print('\\n'.join(failed))"
   ]
  },
  {
   "cell_type": "code",
   "execution_count": null,
   "metadata": {
    "collapsed": true
   },
   "outputs": [],
   "source": []
  }
 ],
 "metadata": {
  "kernelspec": {
   "display_name": "Python 3",
   "language": "python",
   "name": "python3"
  },
  "language_info": {
   "codemirror_mode": {
    "name": "ipython",
    "version": 3
   },
   "file_extension": ".py",
   "mimetype": "text/x-python",
   "name": "python",
   "nbconvert_exporter": "python",
   "pygments_lexer": "ipython3",
   "version": "3.5.2"
  }
 },
 "nbformat": 4,
 "nbformat_minor": 0
}
